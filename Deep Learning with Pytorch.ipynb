{
 "cells": [
  {
   "cell_type": "code",
   "execution_count": 1,
   "id": "3fecc1c4",
   "metadata": {},
   "outputs": [],
   "source": [
    "import torch"
   ]
  },
  {
   "cell_type": "code",
   "execution_count": 2,
   "id": "fc618055",
   "metadata": {},
   "outputs": [
    {
     "data": {
      "text/plain": [
       "'2.0.1+cpu'"
      ]
     },
     "execution_count": 2,
     "metadata": {},
     "output_type": "execute_result"
    }
   ],
   "source": [
    "torch.__version__"
   ]
  },
  {
   "cell_type": "code",
   "execution_count": 3,
   "id": "a2f9917b",
   "metadata": {},
   "outputs": [
    {
     "data": {
      "text/plain": [
       "tensor([[0., 0.],\n",
       "        [0., 0.]])"
      ]
     },
     "execution_count": 3,
     "metadata": {},
     "output_type": "execute_result"
    }
   ],
   "source": [
    "e = torch.empty(2, 2)\n",
    "e"
   ]
  },
  {
   "cell_type": "code",
   "execution_count": 4,
   "id": "9dab2daa",
   "metadata": {},
   "outputs": [
    {
     "data": {
      "text/plain": [
       "tensor([[0.2835, 0.1034],\n",
       "        [0.2780, 0.5527]])"
      ]
     },
     "execution_count": 4,
     "metadata": {},
     "output_type": "execute_result"
    }
   ],
   "source": [
    "r = torch.rand(2, 2)\n",
    "r"
   ]
  },
  {
   "cell_type": "code",
   "execution_count": 5,
   "id": "f9372533",
   "metadata": {},
   "outputs": [
    {
     "data": {
      "text/plain": [
       "tensor([[0., 0.],\n",
       "        [0., 0.]])"
      ]
     },
     "execution_count": 5,
     "metadata": {},
     "output_type": "execute_result"
    }
   ],
   "source": [
    "z = torch.zeros(2, 2)\n",
    "z"
   ]
  },
  {
   "cell_type": "code",
   "execution_count": 6,
   "id": "f9e6f02f",
   "metadata": {},
   "outputs": [
    {
     "data": {
      "text/plain": [
       "tensor([[3, 3],\n",
       "        [3, 3]])"
      ]
     },
     "execution_count": 6,
     "metadata": {},
     "output_type": "execute_result"
    }
   ],
   "source": [
    "c = torch.full((2, 2), 3)\n",
    "c"
   ]
  },
  {
   "cell_type": "code",
   "execution_count": 7,
   "id": "dd0c7636",
   "metadata": {},
   "outputs": [
    {
     "data": {
      "text/plain": [
       "tensor([[1, 2],\n",
       "        [3, 4]])"
      ]
     },
     "execution_count": 7,
     "metadata": {},
     "output_type": "execute_result"
    }
   ],
   "source": [
    "l = torch.tensor([[1,2], [3,4]])\n",
    "l"
   ]
  },
  {
   "cell_type": "code",
   "execution_count": 8,
   "id": "893d5afa",
   "metadata": {},
   "outputs": [
    {
     "data": {
      "text/plain": [
       "array([0.  , 1.25, 2.5 , 3.75, 5.  ])"
      ]
     },
     "execution_count": 8,
     "metadata": {},
     "output_type": "execute_result"
    }
   ],
   "source": [
    "import numpy\n",
    "n = numpy.linspace(0, 5, 5)\n",
    "n"
   ]
  },
  {
   "cell_type": "code",
   "execution_count": 9,
   "id": "bd7f2f54",
   "metadata": {},
   "outputs": [
    {
     "data": {
      "text/plain": [
       "tensor([0.0000, 1.2500, 2.5000, 3.7500, 5.0000], dtype=torch.float64)"
      ]
     },
     "execution_count": 9,
     "metadata": {},
     "output_type": "execute_result"
    }
   ],
   "source": [
    "nn = torch.tensor(n)\n",
    "nn"
   ]
  },
  {
   "cell_type": "code",
   "execution_count": 10,
   "id": "5328343e",
   "metadata": {},
   "outputs": [
    {
     "data": {
      "text/plain": [
       "array([0.  , 1.25, 2.5 , 3.75, 5.  ])"
      ]
     },
     "execution_count": 10,
     "metadata": {},
     "output_type": "execute_result"
    }
   ],
   "source": [
    "nn.numpy()"
   ]
  },
  {
   "cell_type": "code",
   "execution_count": 11,
   "id": "17284603",
   "metadata": {},
   "outputs": [
    {
     "data": {
      "text/plain": [
       "torch.Size([5])"
      ]
     },
     "execution_count": 11,
     "metadata": {},
     "output_type": "execute_result"
    }
   ],
   "source": [
    "nn.shape"
   ]
  },
  {
   "cell_type": "code",
   "execution_count": 12,
   "id": "59451bef",
   "metadata": {},
   "outputs": [
    {
     "data": {
      "text/plain": [
       "(tensor([1.2500, 2.5000, 3.7500, 5.0000], dtype=torch.float64),\n",
       " tensor(0., dtype=torch.float64))"
      ]
     },
     "execution_count": 12,
     "metadata": {},
     "output_type": "execute_result"
    }
   ],
   "source": [
    "nn[1:], nn[0]"
   ]
  },
  {
   "cell_type": "code",
   "execution_count": 13,
   "id": "d86826a7",
   "metadata": {},
   "outputs": [
    {
     "data": {
      "text/plain": [
       "tensor([[1., 1., 1.],\n",
       "        [1., 1., 1.],\n",
       "        [1., 1., 1.]])"
      ]
     },
     "execution_count": 13,
     "metadata": {},
     "output_type": "execute_result"
    }
   ],
   "source": [
    "s = torch.ones(3, 3, dtype = torch.float)\n",
    "s"
   ]
  },
  {
   "cell_type": "code",
   "execution_count": 14,
   "id": "3cbb530d",
   "metadata": {},
   "outputs": [
    {
     "data": {
      "text/plain": [
       "tensor([[1., 0., 0.],\n",
       "        [0., 1., 0.],\n",
       "        [0., 0., 1.]])"
      ]
     },
     "execution_count": 14,
     "metadata": {},
     "output_type": "execute_result"
    }
   ],
   "source": [
    "eye = torch.eye(3, 3)\n",
    "eye"
   ]
  },
  {
   "cell_type": "code",
   "execution_count": 15,
   "id": "aed71d68",
   "metadata": {},
   "outputs": [
    {
     "data": {
      "text/plain": [
       "tensor([[1., 0., 0.],\n",
       "        [0., 1., 0.],\n",
       "        [0., 0., 1.]])"
      ]
     },
     "execution_count": 15,
     "metadata": {},
     "output_type": "execute_result"
    }
   ],
   "source": [
    "eye + torch.zeros(3, 3)"
   ]
  },
  {
   "cell_type": "code",
   "execution_count": 16,
   "id": "2c0d7116",
   "metadata": {},
   "outputs": [
    {
     "data": {
      "text/plain": [
       "tensor([[ 0., -1., -1.],\n",
       "        [-1.,  0., -1.],\n",
       "        [-1., -1.,  0.]])"
      ]
     },
     "execution_count": 16,
     "metadata": {},
     "output_type": "execute_result"
    }
   ],
   "source": [
    "eye - torch.ones(3, 3)"
   ]
  },
  {
   "cell_type": "code",
   "execution_count": 17,
   "id": "74f16780",
   "metadata": {},
   "outputs": [
    {
     "data": {
      "text/plain": [
       "tensor([[3., 0., 0.],\n",
       "        [0., 3., 0.],\n",
       "        [0., 0., 3.]])"
      ]
     },
     "execution_count": 17,
     "metadata": {},
     "output_type": "execute_result"
    }
   ],
   "source": [
    "eye * 3"
   ]
  },
  {
   "cell_type": "code",
   "execution_count": 18,
   "id": "7ffcf6e8",
   "metadata": {},
   "outputs": [
    {
     "data": {
      "text/plain": [
       "tensor([[0.3333, 0.0000, 0.0000],\n",
       "        [0.0000, 0.3333, 0.0000],\n",
       "        [0.0000, 0.0000, 0.3333]])"
      ]
     },
     "execution_count": 18,
     "metadata": {},
     "output_type": "execute_result"
    }
   ],
   "source": [
    "eye / 3"
   ]
  },
  {
   "cell_type": "code",
   "execution_count": 19,
   "id": "d51046ac",
   "metadata": {},
   "outputs": [
    {
     "data": {
      "text/plain": [
       "tensor([[4., 0., 0.],\n",
       "        [0., 4., 0.],\n",
       "        [0., 0., 4.]])"
      ]
     },
     "execution_count": 19,
     "metadata": {},
     "output_type": "execute_result"
    }
   ],
   "source": [
    "eye * torch.full((3,3), 4)"
   ]
  },
  {
   "cell_type": "code",
   "execution_count": 20,
   "id": "c72eed0b",
   "metadata": {},
   "outputs": [
    {
     "data": {
      "text/plain": [
       "tensor([[1.1570, 1.6022, 1.2523],\n",
       "        [0.8770, 1.5797, 1.4493],\n",
       "        [1.1379, 1.3499, 1.3748]])"
      ]
     },
     "execution_count": 20,
     "metadata": {},
     "output_type": "execute_result"
    }
   ],
   "source": [
    "x = torch.rand(3,4)\n",
    "y = torch.rand(4,3)\n",
    "x @ y"
   ]
  },
  {
   "cell_type": "code",
   "execution_count": 21,
   "id": "e6b5e2d1",
   "metadata": {},
   "outputs": [
    {
     "data": {
      "text/plain": [
       "tensor(2)"
      ]
     },
     "execution_count": 21,
     "metadata": {},
     "output_type": "execute_result"
    }
   ],
   "source": [
    "torch.tensor([1,2,5,3,4]).argmax()"
   ]
  },
  {
   "cell_type": "code",
   "execution_count": 29,
   "id": "807f51b8",
   "metadata": {},
   "outputs": [
    {
     "data": {
      "text/plain": [
       "tensor([0.2630], requires_grad=True)"
      ]
     },
     "execution_count": 29,
     "metadata": {},
     "output_type": "execute_result"
    }
   ],
   "source": [
    "X = torch.rand(1, requires_grad = True)\n",
    "X"
   ]
  },
  {
   "cell_type": "code",
   "execution_count": 30,
   "id": "3d28ec61",
   "metadata": {},
   "outputs": [
    {
     "data": {
      "text/plain": [
       "tensor([1.2630], grad_fn=<AddBackward0>)"
      ]
     },
     "execution_count": 30,
     "metadata": {},
     "output_type": "execute_result"
    }
   ],
   "source": [
    "Y = X + 1.0\n",
    "Y"
   ]
  },
  {
   "cell_type": "code",
   "execution_count": 24,
   "id": "6b55760a",
   "metadata": {},
   "outputs": [],
   "source": [
    "def mse(Y):\n",
    "    diff = 3.0 - Y\n",
    "    return diff*diff.sum()/2"
   ]
  },
  {
   "cell_type": "code",
   "execution_count": 31,
   "id": "93ce5e3f",
   "metadata": {},
   "outputs": [
    {
     "data": {
      "text/plain": [
       "tensor([1.5086], grad_fn=<DivBackward0>)"
      ]
     },
     "execution_count": 31,
     "metadata": {},
     "output_type": "execute_result"
    }
   ],
   "source": [
    "loss = mse(Y)\n",
    "loss"
   ]
  },
  {
   "cell_type": "code",
   "execution_count": 32,
   "id": "1c1d8d58",
   "metadata": {},
   "outputs": [
    {
     "data": {
      "text/plain": [
       "tensor([-1.7370])"
      ]
     },
     "execution_count": 32,
     "metadata": {},
     "output_type": "execute_result"
    }
   ],
   "source": [
    "loss.backward()\n",
    "X.grad"
   ]
  },
  {
   "cell_type": "code",
   "execution_count": 33,
   "id": "9ced9c78",
   "metadata": {},
   "outputs": [],
   "source": [
    "learning_rate = 1e-3"
   ]
  },
  {
   "cell_type": "code",
   "execution_count": 34,
   "id": "edaefabf",
   "metadata": {},
   "outputs": [
    {
     "data": {
      "text/plain": [
       "tensor([1.9999], requires_grad=True)"
      ]
     },
     "execution_count": 34,
     "metadata": {},
     "output_type": "execute_result"
    }
   ],
   "source": [
    "for i in range(0, 10000):\n",
    "    Y = X + 1.0\n",
    "    loss = mse(Y)\n",
    "    loss.backward()\n",
    "    with torch.no_grad():\n",
    "        X -=learning_rate*X.grad\n",
    "        X.grad.zero_()\n",
    "X"
   ]
  },
  {
   "cell_type": "code",
   "execution_count": 54,
   "id": "bf5b2270",
   "metadata": {},
   "outputs": [],
   "source": [
    "import pandas\n",
    "from sklearn.datasets import load_iris"
   ]
  },
  {
   "cell_type": "code",
   "execution_count": 55,
   "id": "1a533c21",
   "metadata": {},
   "outputs": [],
   "source": [
    "class IrisDataset:\n",
    "    def __init__(self):\n",
    "        iris = load_iris()\n",
    "        self.data = iris.data\n",
    "        self.target = iris.target\n",
    "\n",
    "    def __len__(self):\n",
    "        return len(self.data)\n",
    "\n",
    "    def __getitem__(self, idx):\n",
    "        return {\n",
    "            'SepalLengthCm': self.data[idx, 0],\n",
    "            'SepalWidthCm': self.data[idx, 1],\n",
    "            'PetalLengthCm': self.data[idx, 2],\n",
    "            'PetalWidthCm': self.data[idx, 3],\n",
    "            'Species': self.target[idx]\n",
    "        }"
   ]
  },
  {
   "cell_type": "code",
   "execution_count": 56,
   "id": "2c652451",
   "metadata": {},
   "outputs": [
    {
     "data": {
      "text/plain": [
       "(150,\n",
       " {'SepalLengthCm': 5.1,\n",
       "  'SepalWidthCm': 3.5,\n",
       "  'PetalLengthCm': 1.4,\n",
       "  'PetalWidthCm': 0.2,\n",
       "  'Species': 0})"
      ]
     },
     "execution_count": 56,
     "metadata": {},
     "output_type": "execute_result"
    }
   ],
   "source": [
    "iris = IrisDataset()\n",
    "len(iris), iris[0]"
   ]
  },
  {
   "cell_type": "code",
   "execution_count": 57,
   "id": "5426a047",
   "metadata": {},
   "outputs": [],
   "source": [
    "class TensorIrisDataset(IrisDataset):\n",
    "    def __getitem__(self, idx):\n",
    "        sample = super().__getitem__(idx)\n",
    "        return {\n",
    "            'tensor': torch.Tensor([\n",
    "                sample['SepalLengthCm'],\n",
    "                sample['SepalWidthCm'],\n",
    "                sample['PetalLengthCm'],\n",
    "                sample['PetalWidthCm']\n",
    "            ]),\n",
    "            'label': sample['Species']\n",
    "        }"
   ]
  },
  {
   "cell_type": "code",
   "execution_count": 58,
   "id": "bc628c31",
   "metadata": {},
   "outputs": [
    {
     "data": {
      "text/plain": [
       "(150, {'tensor': tensor([4.9000, 3.0000, 1.4000, 0.2000]), 'label': 0})"
      ]
     },
     "execution_count": 58,
     "metadata": {},
     "output_type": "execute_result"
    }
   ],
   "source": [
    "tensors = TensorIrisDataset()\n",
    "len(tensors), tensors[1]"
   ]
  },
  {
   "cell_type": "code",
   "execution_count": 59,
   "id": "f7821960",
   "metadata": {},
   "outputs": [],
   "source": [
    "from torch.utils.data import DataLoader"
   ]
  },
  {
   "cell_type": "code",
   "execution_count": 60,
   "id": "28dccf62",
   "metadata": {},
   "outputs": [],
   "source": [
    "loader = DataLoader(tensors, batch_size=16, shuffle=True)"
   ]
  },
  {
   "cell_type": "code",
   "execution_count": 61,
   "id": "76085167",
   "metadata": {},
   "outputs": [
    {
     "name": "stdout",
     "output_type": "stream",
     "text": [
      "{'tensor': tensor([[5.7000, 2.8000, 4.1000, 1.3000],\n",
      "        [6.3000, 3.4000, 5.6000, 2.4000],\n",
      "        [6.7000, 3.1000, 5.6000, 2.4000],\n",
      "        [4.6000, 3.6000, 1.0000, 0.2000],\n",
      "        [6.7000, 3.0000, 5.0000, 1.7000],\n",
      "        [7.7000, 3.8000, 6.7000, 2.2000],\n",
      "        [5.4000, 3.7000, 1.5000, 0.2000],\n",
      "        [5.1000, 3.4000, 1.5000, 0.2000],\n",
      "        [6.4000, 3.2000, 4.5000, 1.5000],\n",
      "        [7.2000, 3.6000, 6.1000, 2.5000],\n",
      "        [5.6000, 3.0000, 4.1000, 1.3000],\n",
      "        [4.3000, 3.0000, 1.1000, 0.1000],\n",
      "        [5.0000, 3.2000, 1.2000, 0.2000],\n",
      "        [6.0000, 2.2000, 4.0000, 1.0000],\n",
      "        [6.1000, 2.9000, 4.7000, 1.4000],\n",
      "        [5.5000, 2.6000, 4.4000, 1.2000]]), 'label': tensor([1, 2, 2, 0, 1, 2, 0, 0, 1, 2, 1, 0, 0, 1, 1, 1], dtype=torch.int32)}\n",
      "{'tensor': tensor([[4.9000, 3.0000, 1.4000, 0.2000],\n",
      "        [6.7000, 3.1000, 4.7000, 1.5000],\n",
      "        [7.1000, 3.0000, 5.9000, 2.1000],\n",
      "        [6.8000, 3.0000, 5.5000, 2.1000],\n",
      "        [6.8000, 3.2000, 5.9000, 2.3000],\n",
      "        [5.0000, 3.4000, 1.6000, 0.4000],\n",
      "        [5.1000, 3.7000, 1.5000, 0.4000],\n",
      "        [5.1000, 3.8000, 1.6000, 0.2000],\n",
      "        [6.5000, 3.0000, 5.8000, 2.2000],\n",
      "        [6.8000, 2.8000, 4.8000, 1.4000],\n",
      "        [5.7000, 2.6000, 3.5000, 1.0000],\n",
      "        [6.5000, 3.0000, 5.2000, 2.0000],\n",
      "        [6.3000, 2.5000, 4.9000, 1.5000],\n",
      "        [6.3000, 3.3000, 4.7000, 1.6000],\n",
      "        [6.7000, 3.1000, 4.4000, 1.4000],\n",
      "        [6.5000, 3.0000, 5.5000, 1.8000]]), 'label': tensor([0, 1, 2, 2, 2, 0, 0, 0, 2, 1, 1, 2, 1, 1, 1, 2], dtype=torch.int32)}\n",
      "{'tensor': tensor([[5.7000, 4.4000, 1.5000, 0.4000],\n",
      "        [7.7000, 3.0000, 6.1000, 2.3000],\n",
      "        [4.4000, 3.2000, 1.3000, 0.2000],\n",
      "        [5.2000, 2.7000, 3.9000, 1.4000],\n",
      "        [6.7000, 3.3000, 5.7000, 2.1000],\n",
      "        [5.1000, 3.8000, 1.5000, 0.3000],\n",
      "        [5.0000, 3.0000, 1.6000, 0.2000],\n",
      "        [4.8000, 3.0000, 1.4000, 0.3000],\n",
      "        [7.2000, 3.2000, 6.0000, 1.8000],\n",
      "        [6.2000, 2.9000, 4.3000, 1.3000],\n",
      "        [5.0000, 2.3000, 3.3000, 1.0000],\n",
      "        [5.0000, 3.5000, 1.6000, 0.6000],\n",
      "        [7.7000, 2.6000, 6.9000, 2.3000],\n",
      "        [6.6000, 2.9000, 4.6000, 1.3000],\n",
      "        [6.9000, 3.2000, 5.7000, 2.3000],\n",
      "        [6.3000, 2.3000, 4.4000, 1.3000]]), 'label': tensor([0, 2, 0, 1, 2, 0, 0, 0, 2, 1, 1, 0, 2, 1, 2, 1], dtype=torch.int32)}\n",
      "{'tensor': tensor([[4.6000, 3.1000, 1.5000, 0.2000],\n",
      "        [5.8000, 4.0000, 1.2000, 0.2000],\n",
      "        [6.4000, 2.9000, 4.3000, 1.3000],\n",
      "        [4.8000, 3.0000, 1.4000, 0.1000],\n",
      "        [5.5000, 4.2000, 1.4000, 0.2000],\n",
      "        [4.7000, 3.2000, 1.6000, 0.2000],\n",
      "        [5.0000, 3.4000, 1.5000, 0.2000],\n",
      "        [5.6000, 3.0000, 4.5000, 1.5000],\n",
      "        [7.2000, 3.0000, 5.8000, 1.6000],\n",
      "        [5.5000, 2.4000, 3.7000, 1.0000],\n",
      "        [5.1000, 3.5000, 1.4000, 0.3000],\n",
      "        [4.9000, 2.5000, 4.5000, 1.7000],\n",
      "        [6.1000, 2.6000, 5.6000, 1.4000],\n",
      "        [5.6000, 2.5000, 3.9000, 1.1000],\n",
      "        [4.9000, 3.1000, 1.5000, 0.1000],\n",
      "        [6.3000, 2.8000, 5.1000, 1.5000]]), 'label': tensor([0, 0, 1, 0, 0, 0, 0, 1, 2, 1, 0, 2, 2, 1, 0, 2], dtype=torch.int32)}\n",
      "{'tensor': tensor([[5.4000, 3.4000, 1.7000, 0.2000],\n",
      "        [5.7000, 3.8000, 1.7000, 0.3000],\n",
      "        [6.3000, 2.5000, 5.0000, 1.9000],\n",
      "        [5.5000, 3.5000, 1.3000, 0.2000],\n",
      "        [5.1000, 3.5000, 1.4000, 0.2000],\n",
      "        [6.0000, 2.7000, 5.1000, 1.6000],\n",
      "        [5.1000, 3.8000, 1.9000, 0.4000],\n",
      "        [5.5000, 2.4000, 3.8000, 1.1000],\n",
      "        [4.8000, 3.4000, 1.9000, 0.2000],\n",
      "        [6.0000, 2.2000, 5.0000, 1.5000],\n",
      "        [5.9000, 3.2000, 4.8000, 1.8000],\n",
      "        [5.2000, 3.5000, 1.5000, 0.2000],\n",
      "        [6.5000, 2.8000, 4.6000, 1.5000],\n",
      "        [6.7000, 2.5000, 5.8000, 1.8000],\n",
      "        [7.6000, 3.0000, 6.6000, 2.1000],\n",
      "        [4.9000, 3.1000, 1.5000, 0.2000]]), 'label': tensor([0, 0, 2, 0, 0, 1, 0, 1, 0, 2, 1, 0, 1, 2, 2, 0], dtype=torch.int32)}\n",
      "{'tensor': tensor([[6.1000, 3.0000, 4.9000, 1.8000],\n",
      "        [6.2000, 3.4000, 5.4000, 2.3000],\n",
      "        [5.8000, 2.7000, 5.1000, 1.9000],\n",
      "        [4.4000, 3.0000, 1.3000, 0.2000],\n",
      "        [5.8000, 2.6000, 4.0000, 1.2000],\n",
      "        [4.5000, 2.3000, 1.3000, 0.3000],\n",
      "        [6.1000, 2.8000, 4.7000, 1.2000],\n",
      "        [6.4000, 3.1000, 5.5000, 1.8000],\n",
      "        [5.8000, 2.7000, 4.1000, 1.0000],\n",
      "        [5.7000, 2.9000, 4.2000, 1.3000],\n",
      "        [6.7000, 3.0000, 5.2000, 2.3000],\n",
      "        [6.4000, 3.2000, 5.3000, 2.3000],\n",
      "        [5.9000, 3.0000, 5.1000, 1.8000],\n",
      "        [6.0000, 2.9000, 4.5000, 1.5000],\n",
      "        [5.0000, 3.3000, 1.4000, 0.2000],\n",
      "        [4.6000, 3.4000, 1.4000, 0.3000]]), 'label': tensor([2, 2, 2, 0, 1, 0, 1, 2, 1, 1, 2, 2, 2, 1, 0, 0], dtype=torch.int32)}\n",
      "{'tensor': tensor([[6.4000, 2.7000, 5.3000, 1.9000],\n",
      "        [7.4000, 2.8000, 6.1000, 1.9000],\n",
      "        [5.6000, 2.7000, 4.2000, 1.3000],\n",
      "        [5.0000, 2.0000, 3.5000, 1.0000],\n",
      "        [6.6000, 3.0000, 4.4000, 1.4000],\n",
      "        [5.6000, 2.9000, 3.6000, 1.3000],\n",
      "        [7.7000, 2.8000, 6.7000, 2.0000],\n",
      "        [5.8000, 2.7000, 3.9000, 1.2000],\n",
      "        [6.1000, 3.0000, 4.6000, 1.4000],\n",
      "        [5.7000, 3.0000, 4.2000, 1.2000],\n",
      "        [6.9000, 3.1000, 5.4000, 2.1000],\n",
      "        [7.9000, 3.8000, 6.4000, 2.0000],\n",
      "        [6.4000, 2.8000, 5.6000, 2.2000],\n",
      "        [6.0000, 3.0000, 4.8000, 1.8000],\n",
      "        [4.8000, 3.4000, 1.6000, 0.2000],\n",
      "        [6.9000, 3.1000, 5.1000, 2.3000]]), 'label': tensor([2, 2, 1, 1, 1, 1, 2, 1, 1, 1, 2, 2, 2, 2, 0, 2], dtype=torch.int32)}\n",
      "{'tensor': tensor([[5.8000, 2.8000, 5.1000, 2.4000],\n",
      "        [5.8000, 2.7000, 5.1000, 1.9000],\n",
      "        [5.7000, 2.5000, 5.0000, 2.0000],\n",
      "        [5.2000, 4.1000, 1.5000, 0.1000],\n",
      "        [5.0000, 3.5000, 1.3000, 0.3000],\n",
      "        [6.5000, 3.2000, 5.1000, 2.0000],\n",
      "        [6.2000, 2.2000, 4.5000, 1.5000],\n",
      "        [5.5000, 2.5000, 4.0000, 1.3000],\n",
      "        [5.7000, 2.8000, 4.5000, 1.3000],\n",
      "        [6.1000, 2.8000, 4.0000, 1.3000],\n",
      "        [4.7000, 3.2000, 1.3000, 0.2000],\n",
      "        [5.4000, 3.4000, 1.5000, 0.4000],\n",
      "        [5.6000, 2.8000, 4.9000, 2.0000],\n",
      "        [4.4000, 2.9000, 1.4000, 0.2000],\n",
      "        [4.9000, 3.6000, 1.4000, 0.1000],\n",
      "        [5.0000, 3.6000, 1.4000, 0.2000]]), 'label': tensor([2, 2, 2, 0, 0, 2, 1, 1, 1, 1, 0, 0, 2, 0, 0, 0], dtype=torch.int32)}\n",
      "{'tensor': tensor([[6.7000, 3.3000, 5.7000, 2.5000],\n",
      "        [5.4000, 3.0000, 4.5000, 1.5000],\n",
      "        [5.4000, 3.9000, 1.7000, 0.4000],\n",
      "        [7.0000, 3.2000, 4.7000, 1.4000],\n",
      "        [6.3000, 2.7000, 4.9000, 1.8000],\n",
      "        [7.3000, 2.9000, 6.3000, 1.8000],\n",
      "        [6.0000, 3.4000, 4.5000, 1.6000],\n",
      "        [5.2000, 3.4000, 1.4000, 0.2000],\n",
      "        [6.2000, 2.8000, 4.8000, 1.8000],\n",
      "        [6.3000, 3.3000, 6.0000, 2.5000],\n",
      "        [4.9000, 2.4000, 3.3000, 1.0000],\n",
      "        [6.3000, 2.9000, 5.6000, 1.8000],\n",
      "        [6.4000, 2.8000, 5.6000, 2.1000],\n",
      "        [4.8000, 3.1000, 1.6000, 0.2000],\n",
      "        [5.1000, 3.3000, 1.7000, 0.5000],\n",
      "        [5.5000, 2.3000, 4.0000, 1.3000]]), 'label': tensor([2, 1, 0, 1, 2, 2, 1, 0, 2, 2, 1, 2, 2, 0, 0, 1], dtype=torch.int32)}\n",
      "{'tensor': tensor([[5.1000, 2.5000, 3.0000, 1.1000],\n",
      "        [5.3000, 3.7000, 1.5000, 0.2000],\n",
      "        [5.9000, 3.0000, 4.2000, 1.5000],\n",
      "        [6.9000, 3.1000, 4.9000, 1.5000],\n",
      "        [5.4000, 3.9000, 1.3000, 0.4000],\n",
      "        [4.6000, 3.2000, 1.4000, 0.2000]]), 'label': tensor([1, 0, 1, 1, 0, 0], dtype=torch.int32)}\n"
     ]
    }
   ],
   "source": [
    "for batch in loader:\n",
    "    print(batch)"
   ]
  },
  {
   "cell_type": "markdown",
   "id": "cecfe8cd",
   "metadata": {},
   "source": [
    "# Assignment"
   ]
  },
  {
   "cell_type": "code",
   "execution_count": 62,
   "id": "8fde1640",
   "metadata": {},
   "outputs": [
    {
     "data": {
      "text/plain": [
       "'2.0.1+cpu'"
      ]
     },
     "execution_count": 62,
     "metadata": {},
     "output_type": "execute_result"
    }
   ],
   "source": [
    "torch.__version__"
   ]
  },
  {
   "cell_type": "code",
   "execution_count": 63,
   "id": "ed14e9dd",
   "metadata": {},
   "outputs": [],
   "source": [
    "import torchvision"
   ]
  },
  {
   "cell_type": "code",
   "execution_count": 68,
   "id": "1ba98fdc",
   "metadata": {},
   "outputs": [],
   "source": [
    "import torchvision.datasets as datasets\n",
    "import torchvision.transforms as transforms"
   ]
  },
  {
   "cell_type": "code",
   "execution_count": 69,
   "id": "0aae5e54",
   "metadata": {},
   "outputs": [
    {
     "name": "stdout",
     "output_type": "stream",
     "text": [
      "Downloading http://yann.lecun.com/exdb/mnist/train-images-idx3-ubyte.gz\n",
      "Downloading http://yann.lecun.com/exdb/mnist/train-images-idx3-ubyte.gz to ./data\\MNIST\\raw\\train-images-idx3-ubyte.gz\n"
     ]
    },
    {
     "name": "stderr",
     "output_type": "stream",
     "text": [
      "100%|███████████████████████████████████████████████████████████████████| 9912422/9912422 [00:03<00:00, 2480042.56it/s]\n"
     ]
    },
    {
     "name": "stdout",
     "output_type": "stream",
     "text": [
      "Extracting ./data\\MNIST\\raw\\train-images-idx3-ubyte.gz to ./data\\MNIST\\raw\n",
      "\n",
      "Downloading http://yann.lecun.com/exdb/mnist/train-labels-idx1-ubyte.gz\n",
      "Downloading http://yann.lecun.com/exdb/mnist/train-labels-idx1-ubyte.gz to ./data\\MNIST\\raw\\train-labels-idx1-ubyte.gz\n"
     ]
    },
    {
     "name": "stderr",
     "output_type": "stream",
     "text": [
      "100%|███████████████████████████████████████████████████████████████████████| 28881/28881 [00:00<00:00, 1411245.79it/s]\n"
     ]
    },
    {
     "name": "stdout",
     "output_type": "stream",
     "text": [
      "Extracting ./data\\MNIST\\raw\\train-labels-idx1-ubyte.gz to ./data\\MNIST\\raw\n",
      "\n",
      "Downloading http://yann.lecun.com/exdb/mnist/t10k-images-idx3-ubyte.gz\n",
      "Downloading http://yann.lecun.com/exdb/mnist/t10k-images-idx3-ubyte.gz to ./data\\MNIST\\raw\\t10k-images-idx3-ubyte.gz\n"
     ]
    },
    {
     "name": "stderr",
     "output_type": "stream",
     "text": [
      "100%|███████████████████████████████████████████████████████████████████| 1648877/1648877 [00:01<00:00, 1503729.90it/s]\n"
     ]
    },
    {
     "name": "stdout",
     "output_type": "stream",
     "text": [
      "Extracting ./data\\MNIST\\raw\\t10k-images-idx3-ubyte.gz to ./data\\MNIST\\raw\n",
      "\n",
      "Downloading http://yann.lecun.com/exdb/mnist/t10k-labels-idx1-ubyte.gz\n",
      "Downloading http://yann.lecun.com/exdb/mnist/t10k-labels-idx1-ubyte.gz to ./data\\MNIST\\raw\\t10k-labels-idx1-ubyte.gz\n"
     ]
    },
    {
     "name": "stderr",
     "output_type": "stream",
     "text": [
      "100%|██████████████████████████████████████████████████████████████████████████████████████| 4542/4542 [00:00<?, ?it/s]"
     ]
    },
    {
     "name": "stdout",
     "output_type": "stream",
     "text": [
      "Extracting ./data\\MNIST\\raw\\t10k-labels-idx1-ubyte.gz to ./data\\MNIST\\raw\n",
      "\n"
     ]
    },
    {
     "name": "stderr",
     "output_type": "stream",
     "text": [
      "\n"
     ]
    }
   ],
   "source": [
    "mnist_trainset = datasets.MNIST(root='./data', train=True, download=True, transform=transforms.ToTensor())"
   ]
  },
  {
   "cell_type": "code",
   "execution_count": 77,
   "id": "51311e37",
   "metadata": {},
   "outputs": [],
   "source": [
    "ten = mnist_trainset[0][0]"
   ]
  },
  {
   "cell_type": "code",
   "execution_count": 80,
   "id": "e3877d42",
   "metadata": {},
   "outputs": [],
   "source": [
    "mnist_dataloader = torch.utils.data.DataLoader(mnist_trainset, batch_size=64, shuffle=True)"
   ]
  },
  {
   "cell_type": "code",
   "execution_count": 81,
   "id": "9b720adb",
   "metadata": {},
   "outputs": [
    {
     "name": "stdout",
     "output_type": "stream",
     "text": [
      "Average Pixel Value: 0.13066032528877258\n"
     ]
    }
   ],
   "source": [
    "total_pixel_sum = 0.0\n",
    "total_num_pixels = 0\n",
    "\n",
    "# Iterate through batches in the dataloader\n",
    "for batch in mnist_dataloader:\n",
    "    images, _ = batch\n",
    "    batch_pixel_sum = torch.sum(images)\n",
    "    batch_num_pixels = torch.numel(images)\n",
    "    \n",
    "    total_pixel_sum += batch_pixel_sum\n",
    "    total_num_pixels += batch_num_pixels\n",
    "\n",
    "# Calculate the average pixel value\n",
    "average_pixel_value = total_pixel_sum / total_num_pixels\n",
    "\n",
    "print(\"Average Pixel Value:\", average_pixel_value.item())"
   ]
  },
  {
   "cell_type": "code",
   "execution_count": null,
   "id": "e5596479",
   "metadata": {},
   "outputs": [],
   "source": []
  }
 ],
 "metadata": {
  "kernelspec": {
   "display_name": "Python 3 (ipykernel)",
   "language": "python",
   "name": "python3"
  },
  "language_info": {
   "codemirror_mode": {
    "name": "ipython",
    "version": 3
   },
   "file_extension": ".py",
   "mimetype": "text/x-python",
   "name": "python",
   "nbconvert_exporter": "python",
   "pygments_lexer": "ipython3",
   "version": "3.9.13"
  }
 },
 "nbformat": 4,
 "nbformat_minor": 5
}
